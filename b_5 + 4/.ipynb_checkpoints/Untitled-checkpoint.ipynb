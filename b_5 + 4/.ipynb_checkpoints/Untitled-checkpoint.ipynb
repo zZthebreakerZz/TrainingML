{
 "cells": [
  {
   "cell_type": "code",
   "execution_count": 33,
   "metadata": {},
   "outputs": [],
   "source": [
    "import matplotlib.pyplot as plt"
   ]
  },
  {
   "cell_type": "code",
   "execution_count": 103,
   "metadata": {},
   "outputs": [],
   "source": [
    "def forward(x):\n",
    "    return x * w + b\n",
    "\n",
    "def loss(x, y):\n",
    "    return (forward(x) - y) ** 2\n",
    "\n",
    "def gradient(x, y):\n",
    "    return 2 * x * (forward(x) - y)\n",
    "\n",
    "def backward(x, y):\n",
    "    return 2 * (forward(x) - y) * x"
   ]
  },
  {
   "cell_type": "code",
   "execution_count": 112,
   "metadata": {},
   "outputs": [],
   "source": [
    "def forward(x):\n",
    "    return (x**2) * w2 + x * w1 + b\n",
    "\n",
    "def loss(x, y):\n",
    "    return (forward(x) - y) ** 2\n",
    "\n",
    "def gradient(x, y):\n",
    "    return 2 * x * (forward(x) - y)\n",
    "\n",
    "def backward1(x, y):\n",
    "    return 2 * (forward(x) - y) * x\n",
    "\n",
    "def backward2(x, y):\n",
    "    return 2 * (forward(x) - y) * x**2"
   ]
  },
  {
   "cell_type": "code",
   "execution_count": 113,
   "metadata": {},
   "outputs": [
    {
     "name": "stdout",
     "output_type": "stream",
     "text": [
      "predict (before training) 4 36.0\n",
      "\tgrad:  1.0 2.0 8.0 8.0\n",
      "\tgrad:  2.0 4.0 34.08 68.16\n",
      "\tgrad:  3.0 6.0 59.2992 177.8976\n",
      "progress: 0 97.67764224000001\n",
      "\tgrad:  1.0 2.0 0.8912639999999996 0.8912639999999996\n",
      "\tgrad:  2.0 4.0 -12.973455360000003 -25.946910720000005\n",
      "\tgrad:  3.0 6.0 -31.734516326400005 -95.20354897920002\n",
      "progress: 1 27.97443129084857\n",
      "\tgrad:  1.0 2.0 4.172782067711999 4.172782067711999\n",
      "\tgrad:  2.0 4.0 8.985788230533124 17.97157646106625\n",
      "\tgrad:  3.0 6.0 11.061116801895631 33.183350405686895\n",
      "progress: 2 3.3985640251438287\n",
      "\tgrad:  1.0 2.0 2.5818341470198822 2.5818341470198822\n",
      "\tgrad:  2.0 4.0 -1.4223926660264539 -2.8447853320529077\n",
      "\tgrad:  3.0 6.0 -8.91559926817749 -26.74679780453247\n",
      "progress: 3 2.2079975086313053\n",
      "\tgrad:  1.0 2.0 3.277152282554873 3.277152282554873\n",
      "\tgrad:  2.0 4.0 3.3527834427503507 6.705566885500701\n",
      "\tgrad:  3.0 6.0 0.5484226332370348 1.6452678997111043\n",
      "progress: 4 0.008354649573517866\n",
      "\tgrad:  1.0 2.0 2.901025374028695 2.901025374028695\n",
      "\tgrad:  2.0 4.0 1.0083073012705839 2.0166146025411678\n",
      "\tgrad:  3.0 6.0 -3.7979435754912174 -11.393830726473652\n",
      "progress: 5 0.40067709451708367\n",
      "\tgrad:  1.0 2.0 3.0283214070306093 3.0283214070306093\n",
      "\tgrad:  2.0 4.0 2.0050356453500875 4.010071290700175\n",
      "\tgrad:  3.0 6.0 -1.6683814658101745 -5.005144397430524\n",
      "progress: 6 0.07731935320719185\n",
      "\tgrad:  1.0 2.0 2.9203569292931935 2.9203569292931935\n",
      "\tgrad:  2.0 4.0 1.4364293450333854 2.8728586900667707\n",
      "\tgrad:  3.0 6.0 -2.5778527911850286 -7.733558373555086\n",
      "progress: 7 0.18459236147279007\n",
      "\tgrad:  1.0 2.0 2.923585114714265 2.923585114714265\n",
      "\tgrad:  2.0 4.0 1.6037947425522248 3.2075894851044495\n",
      "\tgrad:  3.0 6.0 -2.063480425262048 -6.190441275786144\n",
      "progress: 8 0.11827642959554563\n",
      "\tgrad:  1.0 2.0 2.8754924595935245 2.8754924595935245\n",
      "\tgrad:  2.0 4.0 1.427707693375634 2.855415386751268\n",
      "\tgrad:  3.0 6.0 -2.218481924351 -6.655445773053\n",
      "progress: 9 0.13671283468533654\n",
      "predict (after training) 4 8.739306326271606\n"
     ]
    }
   ],
   "source": [
    "l = []\n",
    "w = 1.0\n",
    "b = 3\n",
    "x = [1.0, 2.0, 3.0]\n",
    "y = [2.0, 4.0, 6.0]\n",
    "alpha = 0.01\n",
    "print(\"predict (before training)\", 4, forward(4))\n",
    "for epoch in range(10):\n",
    "    for x_val, y_val in zip(x, y):\n",
    "        l_sum = loss(x_val, y_val)\n",
    "        l.append(l_sum)\n",
    "        grad = backward(x_val, y_val)\n",
    "        print(\"\\tgrad: \", x_val, y_val, grad)\n",
    "        w = w1 - alpha * grad\n",
    "    print(\"progress:\", epoch, l_sum)\n",
    "print(\"predict (after training)\", 4, forward(4))"
   ]
  },
  {
   "cell_type": "code",
   "execution_count": 114,
   "metadata": {},
   "outputs": [
    {
     "data": {
      "image/png": "[encoded data removed]",
      "text/plain": [
       "<Figure size 432x288 with 1 Axes>"
      ]
     },
     "metadata": {
      "needs_background": "light"
     },
     "output_type": "display_data"
    }
   ],
   "source": [
    "x = [1.0, 2.0, 3.0]\n",
    "y = [2.0, 4.0, 6.0]\n",
    "plt.plot(x, y, 'go', label = 'from data')\n",
    "plt.plot(x, [forward(i) for i in x], label = 'prediction')\n",
    "plt.legend()\n",
    "plt.show()"
   ]
  },
  {
   "cell_type": "code",
   "execution_count": null,
   "metadata": {},
   "outputs": [],
   "source": []
  }
 ],
 "metadata": {
  "kernelspec": {
   "display_name": "Python 3",
   "language": "python",
   "name": "python3"
  },
  "language_info": {
   "codemirror_mode": {
    "name": "ipython",
    "version": 3
   },
   "file_extension": ".py",
   "mimetype": "text/x-python",
   "name": "python",
   "nbconvert_exporter": "python",
   "pygments_lexer": "ipython3",
   "version": "3.6.8"
  }
 },
 "nbformat": 4,
 "nbformat_minor": 2
}
