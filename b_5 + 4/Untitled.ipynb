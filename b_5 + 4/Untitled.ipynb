{
 "cells": [
  {
   "cell_type": "code",
   "execution_count": 9,
   "metadata": {},
   "outputs": [],
   "source": [
    "import matplotlib.pyplot as plt"
   ]
  },
  {
   "cell_type": "code",
   "execution_count": 10,
   "metadata": {},
   "outputs": [],
   "source": [
    "def forward(x):\n",
    "    return x * w + b\n",
    "\n",
    "def loss(x, y):\n",
    "    return (forward(x) - y) ** 2\n",
    "\n",
    "def gradient(x, y):\n",
    "    return 2 * x * (forward(x) - y)\n",
    "\n",
    "def backward(x, y):\n",
    "    return 2 * (forward(x) - y) * x"
   ]
  },
  {
   "cell_type": "code",
   "execution_count": 7,
   "metadata": {},
   "outputs": [],
   "source": [
    "def forward(x):\n",
    "    return (x**2) * w2 + x * w1 + b\n",
    "\n",
    "def loss(x, y):\n",
    "    return (forward(x) - y) ** 2\n",
    "\n",
    "def gradient(x, y):\n",
    "    return 2 * x * (forward(x) - y)\n",
    "\n",
    "def backward1(x, y):\n",
    "    return 2 * (forward(x) - y) * x\n",
    "\n",
    "def backward2(x, y):\n",
    "    return 2 * (forward(x) - y) * x**2"
   ]
  },
  {
   "cell_type": "code",
   "execution_count": 11,
   "metadata": {},
   "outputs": [
    {
     "name": "stdout",
     "output_type": "stream",
     "text": [
      "predict (before training) 4 7.0\n",
      "\tgrad:  1.0 2.0 4.0\n",
      "\tgrad:  2.0 4.0 3.6799999999999997\n",
      "\tgrad:  3.0 6.0 -1.382399999999997\n",
      "progress: 0 0.05308415999999977\n",
      "\tgrad:  1.0 2.0 3.874048\n",
      "\tgrad:  2.0 4.0 3.186268160000001\n",
      "\tgrad:  3.0 6.0 -2.404424908800003\n",
      "progress: 1 0.16059053172383062\n",
      "\tgrad:  1.0 2.0 3.7809301749759996\n",
      "\tgrad:  2.0 4.0 2.8212462859059215\n",
      "\tgrad:  3.0 6.0 -3.1600201881747463\n",
      "progress: 2 0.2773813219353322\n",
      "\tgrad:  1.0 2.0 3.7120870495218563\n",
      "\tgrad:  2.0 4.0 2.551381234125678\n",
      "\tgrad:  3.0 6.0 -3.7186408453598485\n",
      "progress: 3 0.3841191593549614\n",
      "\tgrad:  1.0 2.0 3.6611905007561028\n",
      "\tgrad:  2.0 4.0 2.3518667629639225\n",
      "\tgrad:  3.0 6.0 -4.131635800664679\n",
      "progress: 4 0.4741781774815017\n",
      "\tgrad:  1.0 2.0 3.6235620714949954\n",
      "\tgrad:  2.0 4.0 2.2043633202603843\n",
      "\tgrad:  3.0 6.0 -4.436967927061005\n",
      "progress: 5 0.546852344049112\n",
      "\tgrad:  1.0 2.0 3.595742922201108\n",
      "\tgrad:  2.0 4.0 2.095312255028343\n",
      "\tgrad:  3.0 6.0 -4.662703632091329\n",
      "progress: 6 0.6039112544643798\n",
      "\tgrad:  1.0 2.0 3.575175891298345\n",
      "\tgrad:  2.0 4.0 2.014689493889513\n",
      "\tgrad:  3.0 6.0 -4.8295927476487\n",
      "progress: 7 0.6479157252261367\n",
      "\tgrad:  1.0 2.0 3.5599704385475626\n",
      "\tgrad:  2.0 4.0 1.955084119106445\n",
      "\tgrad:  3.0 6.0 -4.952975873449658\n",
      "progress: 8 0.6814436111937333\n",
      "\tgrad:  1.0 2.0 3.5487288648634756\n",
      "\tgrad:  2.0 4.0 1.9110171502648257\n",
      "\tgrad:  3.0 6.0 -5.044194498951812\n",
      "progress: 9 0.7067749484237702\n",
      "predict (after training) 4 6.080835669079892\n"
     ]
    }
   ],
   "source": [
    "l = []\n",
    "w = 1.0\n",
    "b = 3\n",
    "x = [1.0, 2.0, 3.0]\n",
    "y = [2.0, 4.0, 6.0]\n",
    "alpha = 0.01\n",
    "print(\"predict (before training)\", 4, forward(4))\n",
    "for epoch in range(10):\n",
    "    for x_val, y_val in zip(x, y):\n",
    "        l_sum = loss(x_val, y_val)\n",
    "        l.append(l_sum)\n",
    "        grad = backward(x_val, y_val)\n",
    "        print(\"\\tgrad: \", x_val, y_val, grad)\n",
    "        w = w - alpha * grad\n",
    "    print(\"progress:\", epoch, l_sum)\n",
    "print(\"predict (after training)\", 4, forward(4))"
   ]
  },
  {
   "cell_type": "code",
   "execution_count": 12,
   "metadata": {},
   "outputs": [
    {
     "data": {
      "image/png": "[encoded data removed]",
      "text/plain": [
       "<Figure size 432x288 with 1 Axes>"
      ]
     },
     "metadata": {
      "needs_background": "light"
     },
     "output_type": "display_data"
    }
   ],
   "source": [
    "plt.plot(x, y, 'go', label = 'from data')\n",
    "plt.plot(x, [forward(i) for i in x], label = 'prediction')\n",
    "plt.legend()\n",
    "plt.show()"
   ]
  },
  {
   "cell_type": "code",
   "execution_count": null,
   "metadata": {},
   "outputs": [],
   "source": []
  }
 ],
 "metadata": {
  "kernelspec": {
   "display_name": "Python 3",
   "language": "python",
   "name": "python3"
  },
  "language_info": {
   "codemirror_mode": {
    "name": "ipython",
    "version": 3
   },
   "file_extension": ".py",
   "mimetype": "text/x-python",
   "name": "python",
   "nbconvert_exporter": "python",
   "pygments_lexer": "ipython3",
   "version": "3.6.8"
  }
 },
 "nbformat": 4,
 "nbformat_minor": 2
}
